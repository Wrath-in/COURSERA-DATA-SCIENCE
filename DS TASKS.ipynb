{
  "metadata": {
    "kernelspec": {
      "name": "python",
      "display_name": "Python (Pyodide)",
      "language": "python"
    },
    "language_info": {
      "codemirror_mode": {
        "name": "python",
        "version": 3
      },
      "file_extension": ".py",
      "mimetype": "text/x-python",
      "name": "python",
      "nbconvert_exporter": "python",
      "pygments_lexer": "ipython3",
      "version": "3.8"
    }
  },
  "nbformat_minor": 4,
  "nbformat": 4,
  "cells": [
    {
      "cell_type": "markdown",
      "source": "Create a markdown cell with the title of the notebook.\n\nJupyter Labs and Notebooks",
      "metadata": {}
    },
    {
      "cell_type": "markdown",
      "source": "Create a markdown cell for an introduction.",
      "metadata": {}
    },
    {
      "cell_type": "markdown",
      "source": "In this notebook, we are going to summarize jupyter notebooks and jupyter labs \nThere are two types of cells in jupyter \n1) Code Cell\n2) Markdown Cell ",
      "metadata": {}
    },
    {
      "cell_type": "markdown",
      "source": "Create a markdown cell to list data science languages.",
      "metadata": {}
    },
    {
      "cell_type": "markdown",
      "source": "Some of the popular languages that data scientists use are: \n- Python\n- R\n- SQL\n- Julia\n- Scala",
      "metadata": {}
    },
    {
      "cell_type": "markdown",
      "source": "Create a markdown cell to list data science libraries. ",
      "metadata": {}
    },
    {
      "cell_type": "markdown",
      "source": "Some of the commonly used libraries used by Data Scientists include:\n- Pandas\n- NumPy\n- Matplotlib\n- Scikit-Learn\n- TensorFlow\n- Keras",
      "metadata": {}
    },
    {
      "cell_type": "markdown",
      "source": "Create a markdown cell with a table of Data Science tools. ",
      "metadata": {}
    },
    {
      "cell_type": "markdown",
      "source": "|Data Science Tools|\n|-----------------|\n|Jupyter Notebook|\n|RStudio        |\n|Apache Spark|",
      "metadata": {}
    },
    {
      "cell_type": "markdown",
      "source": "Create a markdown cell introducing arithmetic expression examples.",
      "metadata": {}
    },
    {
      "cell_type": "markdown",
      "source": "Below are a few examples of evaluating arithmetic expressions in python",
      "metadata": {}
    },
    {
      "cell_type": "markdown",
      "source": "Create a code cell to multiply and add numbers. ",
      "metadata": {}
    },
    {
      "cell_type": "code",
      "source": "#This is a simple arithmetic expression to multiply then add integers\n(5*4)+6",
      "metadata": {
        "trusted": true
      },
      "outputs": [
        {
          "execution_count": 4,
          "output_type": "execute_result",
          "data": {
            "text/plain": "26"
          },
          "metadata": {}
        }
      ],
      "execution_count": 4
    },
    {
      "cell_type": "markdown",
      "source": "Create a code cell to convert minutes to hours. ",
      "metadata": {}
    },
    {
      "cell_type": "code",
      "source": "#This will convert 200 minutes to hours\n200/60",
      "metadata": {
        "trusted": true
      },
      "outputs": [
        {
          "execution_count": 5,
          "output_type": "execute_result",
          "data": {
            "text/plain": "3.3333333333333335"
          },
          "metadata": {}
        }
      ],
      "execution_count": 5
    },
    {
      "cell_type": "markdown",
      "source": "Insert a markdown cell to list Objectives.",
      "metadata": {}
    },
    {
      "cell_type": "markdown",
      "source": "**Objectives**\n- List popular languages for data science\n- List commonly used Libraries\n- Create tables of tools\n- Perform arithmetic expressions\n- Convert minutes to hours",
      "metadata": {}
    },
    {
      "cell_type": "markdown",
      "source": "Create a markdown cell to indicate the Author’s name. ",
      "metadata": {}
    },
    {
      "cell_type": "markdown",
      "source": "## Author Name",
      "metadata": {}
    },
    {
      "cell_type": "markdown",
      "source": "Srijan Aman Shankar",
      "metadata": {}
    },
    {
      "cell_type": "markdown",
      "source": "",
      "metadata": {}
    }
  ]
}
